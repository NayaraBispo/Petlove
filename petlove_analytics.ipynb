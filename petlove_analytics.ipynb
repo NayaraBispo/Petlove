{
 "cells": [
  {
   "attachments": {},
   "cell_type": "markdown",
   "metadata": {},
   "source": [
    "# Petlove - Análise de dados dos assinantes.\n",
    "\n"
   ]
  },
  {
   "cell_type": "code",
   "execution_count": 181,
   "metadata": {},
   "outputs": [],
   "source": [
    "\n",
    "# Importando as biblliotecas necessárias\n",
    "import pandas as pd\n",
    "import matplotlib as plt\n",
    "import seaborn as sns\n"
   ]
  },
  {
   "attachments": {},
   "cell_type": "markdown",
   "metadata": {},
   "source": [
    "Criando de um dataframe no pandas e leitura do arquivo na pasta de origem."
   ]
  },
  {
   "cell_type": "code",
   "execution_count": 182,
   "metadata": {},
   "outputs": [],
   "source": [
    "# Importando os dados do arquivo\n",
    "dataframe = pd.read_csv('D:/USUARIO/Documents/PetLove/data-test-analytics.csv', sep=',', encoding='utf-8')"
   ]
  },
  {
   "attachments": {},
   "cell_type": "markdown",
   "metadata": {},
   "source": [
    "Verificando os dados registrados no arquivo:"
   ]
  },
  {
   "cell_type": "code",
   "execution_count": 183,
   "metadata": {},
   "outputs": [
    {
     "data": {
      "text/html": [
       "<div>\n",
       "<style scoped>\n",
       "    .dataframe tbody tr th:only-of-type {\n",
       "        vertical-align: middle;\n",
       "    }\n",
       "\n",
       "    .dataframe tbody tr th {\n",
       "        vertical-align: top;\n",
       "    }\n",
       "\n",
       "    .dataframe thead th {\n",
       "        text-align: right;\n",
       "    }\n",
       "</style>\n",
       "<table border=\"1\" class=\"dataframe\">\n",
       "  <thead>\n",
       "    <tr style=\"text-align: right;\">\n",
       "      <th></th>\n",
       "      <th>id</th>\n",
       "      <th>created_at</th>\n",
       "      <th>updated_at</th>\n",
       "      <th>deleted_at</th>\n",
       "      <th>name_hash</th>\n",
       "      <th>email_hash</th>\n",
       "      <th>address_hash</th>\n",
       "      <th>birth_date</th>\n",
       "      <th>status</th>\n",
       "      <th>version</th>\n",
       "      <th>city</th>\n",
       "      <th>state</th>\n",
       "      <th>neighborhood</th>\n",
       "      <th>last_date_purchase</th>\n",
       "      <th>average_ticket</th>\n",
       "      <th>items_quantity</th>\n",
       "      <th>all_revenue</th>\n",
       "      <th>all_orders</th>\n",
       "      <th>recency</th>\n",
       "      <th>marketing_source</th>\n",
       "    </tr>\n",
       "  </thead>\n",
       "  <tbody>\n",
       "    <tr>\n",
       "      <th>0</th>\n",
       "      <td>8bf7960e-3b93-468b-856e-6c6c5b56f52b</td>\n",
       "      <td>08/15/17 07:05 AM</td>\n",
       "      <td>01/14/21 11:23 AM</td>\n",
       "      <td>NaN</td>\n",
       "      <td>312d206168a318614897e8ccac43bff9</td>\n",
       "      <td>83eb3aed9a44377df80ce876dce92c9a</td>\n",
       "      <td>8b4bfaa0cbc41a16f46da15ddcd6a907</td>\n",
       "      <td>07/10/74 12:00 AM</td>\n",
       "      <td>active</td>\n",
       "      <td>2.31.7</td>\n",
       "      <td>Peixoto da Praia</td>\n",
       "      <td>AM</td>\n",
       "      <td>Aparecida 7ª Seção</td>\n",
       "      <td>01/14/21 11:23 AM</td>\n",
       "      <td>151.142942</td>\n",
       "      <td>10</td>\n",
       "      <td>906.857651</td>\n",
       "      <td>6</td>\n",
       "      <td>35</td>\n",
       "      <td>crm</td>\n",
       "    </tr>\n",
       "    <tr>\n",
       "      <th>1</th>\n",
       "      <td>a39535b5-4647-4680-b4f6-3aed57c1f1ff</td>\n",
       "      <td>12/31/19 09:53 PM</td>\n",
       "      <td>01/08/21 11:23 AM</td>\n",
       "      <td>NaN</td>\n",
       "      <td>de448fcb47d0d6a873b2eef52b5ee595</td>\n",
       "      <td>72678bb35e2ac84ed373e81dd9dca28c</td>\n",
       "      <td>22f1cfa1847f38da3f3cb114dd2b9247</td>\n",
       "      <td>07/06/40 12:00 AM</td>\n",
       "      <td>paused</td>\n",
       "      <td>3.30.12</td>\n",
       "      <td>Fernandes</td>\n",
       "      <td>RR</td>\n",
       "      <td>Santa Isabel</td>\n",
       "      <td>01/08/21 11:23 AM</td>\n",
       "      <td>236.991790</td>\n",
       "      <td>4</td>\n",
       "      <td>236.991790</td>\n",
       "      <td>1</td>\n",
       "      <td>41</td>\n",
       "      <td>organic_search</td>\n",
       "    </tr>\n",
       "    <tr>\n",
       "      <th>2</th>\n",
       "      <td>dc067cd2-c021-42bd-8c0e-beb267280e66</td>\n",
       "      <td>03/07/19 11:46 PM</td>\n",
       "      <td>01/07/21 11:23 AM</td>\n",
       "      <td>NaN</td>\n",
       "      <td>cb09e447ddc38283373d56bb46498e6a</td>\n",
       "      <td>668f4ee9add29c7bd02c485f1b7509e3</td>\n",
       "      <td>6cb47446a086ee6483b3eb954f11467a</td>\n",
       "      <td>03/18/63 12:00 AM</td>\n",
       "      <td>active</td>\n",
       "      <td>3.28.9</td>\n",
       "      <td>Lopes</td>\n",
       "      <td>RR</td>\n",
       "      <td>Estrela</td>\n",
       "      <td>01/07/21 11:23 AM</td>\n",
       "      <td>211.955597</td>\n",
       "      <td>13</td>\n",
       "      <td>2331.511572</td>\n",
       "      <td>11</td>\n",
       "      <td>42</td>\n",
       "      <td>organic_search</td>\n",
       "    </tr>\n",
       "    <tr>\n",
       "      <th>3</th>\n",
       "      <td>b5e4caeb-3a9b-49ed-aa33-5acd06b162c1</td>\n",
       "      <td>07/21/18 10:17 AM</td>\n",
       "      <td>01/10/21 11:23 AM</td>\n",
       "      <td>NaN</td>\n",
       "      <td>52593437a405b11b3557170680ef80c8</td>\n",
       "      <td>d3fb45188d95c8d7cc49da5b4f727c86</td>\n",
       "      <td>0a6f0c54db1e6f19347f96b50f8092a4</td>\n",
       "      <td>11/21/80 12:00 AM</td>\n",
       "      <td>active</td>\n",
       "      <td>3.34.3</td>\n",
       "      <td>Campos do Campo</td>\n",
       "      <td>PE</td>\n",
       "      <td>Confisco</td>\n",
       "      <td>01/10/21 11:23 AM</td>\n",
       "      <td>204.113227</td>\n",
       "      <td>8</td>\n",
       "      <td>1224.679359</td>\n",
       "      <td>6</td>\n",
       "      <td>39</td>\n",
       "      <td>organic_search</td>\n",
       "    </tr>\n",
       "    <tr>\n",
       "      <th>4</th>\n",
       "      <td>d4ff61fc-f008-4e19-b8ae-bd70cfa3ae27</td>\n",
       "      <td>06/08/18 12:09 PM</td>\n",
       "      <td>01/18/21 11:23 AM</td>\n",
       "      <td>NaN</td>\n",
       "      <td>dbda4b778a966c21904238ed2d2005db</td>\n",
       "      <td>a0f76bc49b4c43327b536da6e1a1465e</td>\n",
       "      <td>143b9f169b4fa1692f6d79b5682169b5</td>\n",
       "      <td>07/07/59 12:00 AM</td>\n",
       "      <td>active</td>\n",
       "      <td>3.19.8</td>\n",
       "      <td>das Neves</td>\n",
       "      <td>RJ</td>\n",
       "      <td>Vila Suzana Segunda Seção</td>\n",
       "      <td>01/18/21 11:23 AM</td>\n",
       "      <td>252.940997</td>\n",
       "      <td>9</td>\n",
       "      <td>2023.527980</td>\n",
       "      <td>8</td>\n",
       "      <td>31</td>\n",
       "      <td>crm</td>\n",
       "    </tr>\n",
       "  </tbody>\n",
       "</table>\n",
       "</div>"
      ],
      "text/plain": [
       "                                     id         created_at         updated_at   \n",
       "0  8bf7960e-3b93-468b-856e-6c6c5b56f52b  08/15/17 07:05 AM  01/14/21 11:23 AM  \\\n",
       "1  a39535b5-4647-4680-b4f6-3aed57c1f1ff  12/31/19 09:53 PM  01/08/21 11:23 AM   \n",
       "2  dc067cd2-c021-42bd-8c0e-beb267280e66  03/07/19 11:46 PM  01/07/21 11:23 AM   \n",
       "3  b5e4caeb-3a9b-49ed-aa33-5acd06b162c1  07/21/18 10:17 AM  01/10/21 11:23 AM   \n",
       "4  d4ff61fc-f008-4e19-b8ae-bd70cfa3ae27  06/08/18 12:09 PM  01/18/21 11:23 AM   \n",
       "\n",
       "  deleted_at                         name_hash   \n",
       "0        NaN  312d206168a318614897e8ccac43bff9  \\\n",
       "1        NaN  de448fcb47d0d6a873b2eef52b5ee595   \n",
       "2        NaN  cb09e447ddc38283373d56bb46498e6a   \n",
       "3        NaN  52593437a405b11b3557170680ef80c8   \n",
       "4        NaN  dbda4b778a966c21904238ed2d2005db   \n",
       "\n",
       "                         email_hash                      address_hash   \n",
       "0  83eb3aed9a44377df80ce876dce92c9a  8b4bfaa0cbc41a16f46da15ddcd6a907  \\\n",
       "1  72678bb35e2ac84ed373e81dd9dca28c  22f1cfa1847f38da3f3cb114dd2b9247   \n",
       "2  668f4ee9add29c7bd02c485f1b7509e3  6cb47446a086ee6483b3eb954f11467a   \n",
       "3  d3fb45188d95c8d7cc49da5b4f727c86  0a6f0c54db1e6f19347f96b50f8092a4   \n",
       "4  a0f76bc49b4c43327b536da6e1a1465e  143b9f169b4fa1692f6d79b5682169b5   \n",
       "\n",
       "          birth_date  status  version               city state   \n",
       "0  07/10/74 12:00 AM  active   2.31.7   Peixoto da Praia    AM  \\\n",
       "1  07/06/40 12:00 AM  paused  3.30.12          Fernandes    RR   \n",
       "2  03/18/63 12:00 AM  active   3.28.9              Lopes    RR   \n",
       "3  11/21/80 12:00 AM  active   3.34.3    Campos do Campo    PE   \n",
       "4  07/07/59 12:00 AM  active   3.19.8          das Neves    RJ   \n",
       "\n",
       "                neighborhood last_date_purchase  average_ticket   \n",
       "0         Aparecida 7ª Seção  01/14/21 11:23 AM      151.142942  \\\n",
       "1               Santa Isabel  01/08/21 11:23 AM      236.991790   \n",
       "2                    Estrela  01/07/21 11:23 AM      211.955597   \n",
       "3                   Confisco  01/10/21 11:23 AM      204.113227   \n",
       "4  Vila Suzana Segunda Seção  01/18/21 11:23 AM      252.940997   \n",
       "\n",
       "   items_quantity  all_revenue  all_orders  recency marketing_source  \n",
       "0              10   906.857651           6       35              crm  \n",
       "1               4   236.991790           1       41   organic_search  \n",
       "2              13  2331.511572          11       42   organic_search  \n",
       "3               8  1224.679359           6       39   organic_search  \n",
       "4               9  2023.527980           8       31              crm  "
      ]
     },
     "execution_count": 183,
     "metadata": {},
     "output_type": "execute_result"
    }
   ],
   "source": [
    "dataframe.head()"
   ]
  },
  {
   "attachments": {},
   "cell_type": "markdown",
   "metadata": {},
   "source": [
    "Obtendo um resumo das informações contidas no dataframe. "
   ]
  },
  {
   "cell_type": "code",
   "execution_count": 184,
   "metadata": {},
   "outputs": [
    {
     "name": "stdout",
     "output_type": "stream",
     "text": [
      "<class 'pandas.core.frame.DataFrame'>\n",
      "RangeIndex: 10000 entries, 0 to 9999\n",
      "Data columns (total 20 columns):\n",
      " #   Column              Non-Null Count  Dtype  \n",
      "---  ------              --------------  -----  \n",
      " 0   id                  10000 non-null  object \n",
      " 1   created_at          10000 non-null  object \n",
      " 2   updated_at          10000 non-null  object \n",
      " 3   deleted_at          505 non-null    object \n",
      " 4   name_hash           10000 non-null  object \n",
      " 5   email_hash          10000 non-null  object \n",
      " 6   address_hash        10000 non-null  object \n",
      " 7   birth_date          10000 non-null  object \n",
      " 8   status              10000 non-null  object \n",
      " 9   version             10000 non-null  object \n",
      " 10  city                10000 non-null  object \n",
      " 11  state               10000 non-null  object \n",
      " 12  neighborhood        10000 non-null  object \n",
      " 13  last_date_purchase  10000 non-null  object \n",
      " 14  average_ticket      10000 non-null  float64\n",
      " 15  items_quantity      10000 non-null  int64  \n",
      " 16  all_revenue         10000 non-null  float64\n",
      " 17  all_orders          10000 non-null  int64  \n",
      " 18  recency             10000 non-null  int64  \n",
      " 19  marketing_source    10000 non-null  object \n",
      "dtypes: float64(2), int64(3), object(15)\n",
      "memory usage: 1.5+ MB\n"
     ]
    }
   ],
   "source": [
    "dataframe.info()"
   ]
  },
  {
   "cell_type": "code",
   "execution_count": 185,
   "metadata": {},
   "outputs": [
    {
     "data": {
      "text/plain": [
       "id                    10000\n",
       "created_at             9975\n",
       "updated_at              550\n",
       "deleted_at              505\n",
       "name_hash             10000\n",
       "email_hash            10000\n",
       "address_hash          10000\n",
       "birth_date             7876\n",
       "status                    3\n",
       "version                2905\n",
       "city                   2406\n",
       "state                    27\n",
       "neighborhood            482\n",
       "last_date_purchase      550\n",
       "average_ticket        10000\n",
       "items_quantity           19\n",
       "all_revenue            9069\n",
       "all_orders               12\n",
       "recency                 463\n",
       "marketing_source          6\n",
       "dtype: int64"
      ]
     },
     "execution_count": 185,
     "metadata": {},
     "output_type": "execute_result"
    }
   ],
   "source": [
    "dataframe.nunique()"
   ]
  },
  {
   "attachments": {},
   "cell_type": "markdown",
   "metadata": {},
   "source": [
    "Conhecendo alguns dados estatísticos descritivos."
   ]
  },
  {
   "cell_type": "code",
   "execution_count": 186,
   "metadata": {},
   "outputs": [
    {
     "data": {
      "text/html": [
       "<div>\n",
       "<style scoped>\n",
       "    .dataframe tbody tr th:only-of-type {\n",
       "        vertical-align: middle;\n",
       "    }\n",
       "\n",
       "    .dataframe tbody tr th {\n",
       "        vertical-align: top;\n",
       "    }\n",
       "\n",
       "    .dataframe thead th {\n",
       "        text-align: right;\n",
       "    }\n",
       "</style>\n",
       "<table border=\"1\" class=\"dataframe\">\n",
       "  <thead>\n",
       "    <tr style=\"text-align: right;\">\n",
       "      <th></th>\n",
       "      <th>average_ticket</th>\n",
       "      <th>items_quantity</th>\n",
       "      <th>all_revenue</th>\n",
       "      <th>all_orders</th>\n",
       "      <th>recency</th>\n",
       "    </tr>\n",
       "  </thead>\n",
       "  <tbody>\n",
       "    <tr>\n",
       "      <th>count</th>\n",
       "      <td>10000.000000</td>\n",
       "      <td>10000.00000</td>\n",
       "      <td>10000.000000</td>\n",
       "      <td>10000.000000</td>\n",
       "      <td>10000.000000</td>\n",
       "    </tr>\n",
       "    <tr>\n",
       "      <th>mean</th>\n",
       "      <td>216.894709</td>\n",
       "      <td>8.49980</td>\n",
       "      <td>1174.888603</td>\n",
       "      <td>5.415400</td>\n",
       "      <td>67.192900</td>\n",
       "    </tr>\n",
       "    <tr>\n",
       "      <th>std</th>\n",
       "      <td>22.757213</td>\n",
       "      <td>3.02604</td>\n",
       "      <td>763.141973</td>\n",
       "      <td>3.457577</td>\n",
       "      <td>175.723276</td>\n",
       "    </tr>\n",
       "    <tr>\n",
       "      <th>min</th>\n",
       "      <td>131.378672</td>\n",
       "      <td>1.00000</td>\n",
       "      <td>0.000000</td>\n",
       "      <td>0.000000</td>\n",
       "      <td>1.000000</td>\n",
       "    </tr>\n",
       "    <tr>\n",
       "      <th>25%</th>\n",
       "      <td>201.398851</td>\n",
       "      <td>6.00000</td>\n",
       "      <td>494.873564</td>\n",
       "      <td>2.000000</td>\n",
       "      <td>31.000000</td>\n",
       "    </tr>\n",
       "    <tr>\n",
       "      <th>50%</th>\n",
       "      <td>217.019478</td>\n",
       "      <td>8.00000</td>\n",
       "      <td>1172.751918</td>\n",
       "      <td>5.000000</td>\n",
       "      <td>35.000000</td>\n",
       "    </tr>\n",
       "    <tr>\n",
       "      <th>75%</th>\n",
       "      <td>232.455042</td>\n",
       "      <td>11.00000</td>\n",
       "      <td>1798.475045</td>\n",
       "      <td>8.000000</td>\n",
       "      <td>39.000000</td>\n",
       "    </tr>\n",
       "    <tr>\n",
       "      <th>max</th>\n",
       "      <td>303.386848</td>\n",
       "      <td>19.00000</td>\n",
       "      <td>3225.654163</td>\n",
       "      <td>11.000000</td>\n",
       "      <td>1820.000000</td>\n",
       "    </tr>\n",
       "  </tbody>\n",
       "</table>\n",
       "</div>"
      ],
      "text/plain": [
       "       average_ticket  items_quantity   all_revenue    all_orders   \n",
       "count    10000.000000     10000.00000  10000.000000  10000.000000  \\\n",
       "mean       216.894709         8.49980   1174.888603      5.415400   \n",
       "std         22.757213         3.02604    763.141973      3.457577   \n",
       "min        131.378672         1.00000      0.000000      0.000000   \n",
       "25%        201.398851         6.00000    494.873564      2.000000   \n",
       "50%        217.019478         8.00000   1172.751918      5.000000   \n",
       "75%        232.455042        11.00000   1798.475045      8.000000   \n",
       "max        303.386848        19.00000   3225.654163     11.000000   \n",
       "\n",
       "            recency  \n",
       "count  10000.000000  \n",
       "mean      67.192900  \n",
       "std      175.723276  \n",
       "min        1.000000  \n",
       "25%       31.000000  \n",
       "50%       35.000000  \n",
       "75%       39.000000  \n",
       "max     1820.000000  "
      ]
     },
     "execution_count": 186,
     "metadata": {},
     "output_type": "execute_result"
    }
   ],
   "source": [
    "dataframe.describe()"
   ]
  },
  {
   "attachments": {},
   "cell_type": "markdown",
   "metadata": {},
   "source": [
    "---\n",
    "\n",
    "Após uma visualização rápida da amostra para conhecimento das características dos dados e das informações estatísticas descritivas, foi observado que algumas colunas não seriam necessárias para a resolução desse problema e outras revelaram uma inconsistência nos dados. Assim, foi criado um novo data frame com os dados necessários para o estudo do caso.\n",
    "\n",
    "Dados como, o *total de pedidos realizado pelo cliente (all_orders)* e *total de receita realizado pelo cliente (all_revenue)*, que tem 0 como valor mínimo, não foram considerados no novo data frame, pois ao relacionar com outras colunas existentes, como por exemplo, a *coluna média de gastos por pedido (average_ticket)*, que tem aproximadamente 138,38 como valor mínimo, foi observado uma incerteza, pois essas colunas deveriam ter uma relação, isto é, o valor mínimo das colunas all_orders e all_revenue deveriam ser maiores que 0.\n",
    "\n",
    "Além dessas colunas, a *recency*, que representa o *tempo desde a última compra do cliente*, não especifica qual a unidade de tempo.\n",
    "\n",
    "Portanto, para utilizar essas colunas (all_revenue, all_orders e recency) em uma análise, é necessário realizar uma pesquisa além da amostra para compreender, entender o que o dado representa e conhecer as possibilidades de transformação desses dados para evitar incertezas.\n",
    "\n",
    "---"
   ]
  },
  {
   "attachments": {},
   "cell_type": "markdown",
   "metadata": {},
   "source": [
    "Criando um novo dataframe com colunas específicas para a análise."
   ]
  },
  {
   "cell_type": "code",
   "execution_count": 187,
   "metadata": {},
   "outputs": [
    {
     "data": {
      "text/html": [
       "<div>\n",
       "<style scoped>\n",
       "    .dataframe tbody tr th:only-of-type {\n",
       "        vertical-align: middle;\n",
       "    }\n",
       "\n",
       "    .dataframe tbody tr th {\n",
       "        vertical-align: top;\n",
       "    }\n",
       "\n",
       "    .dataframe thead th {\n",
       "        text-align: right;\n",
       "    }\n",
       "</style>\n",
       "<table border=\"1\" class=\"dataframe\">\n",
       "  <thead>\n",
       "    <tr style=\"text-align: right;\">\n",
       "      <th></th>\n",
       "      <th>id</th>\n",
       "      <th>created_at</th>\n",
       "      <th>updated_at</th>\n",
       "      <th>deleted_at</th>\n",
       "      <th>status</th>\n",
       "      <th>state</th>\n",
       "      <th>last_date_purchase</th>\n",
       "      <th>average_ticket</th>\n",
       "      <th>items_quantity</th>\n",
       "      <th>marketing_source</th>\n",
       "    </tr>\n",
       "  </thead>\n",
       "  <tbody>\n",
       "    <tr>\n",
       "      <th>0</th>\n",
       "      <td>8bf7960e-3b93-468b-856e-6c6c5b56f52b</td>\n",
       "      <td>08/15/17 07:05 AM</td>\n",
       "      <td>01/14/21 11:23 AM</td>\n",
       "      <td>NaN</td>\n",
       "      <td>active</td>\n",
       "      <td>AM</td>\n",
       "      <td>01/14/21 11:23 AM</td>\n",
       "      <td>151.142942</td>\n",
       "      <td>10</td>\n",
       "      <td>crm</td>\n",
       "    </tr>\n",
       "    <tr>\n",
       "      <th>1</th>\n",
       "      <td>a39535b5-4647-4680-b4f6-3aed57c1f1ff</td>\n",
       "      <td>12/31/19 09:53 PM</td>\n",
       "      <td>01/08/21 11:23 AM</td>\n",
       "      <td>NaN</td>\n",
       "      <td>paused</td>\n",
       "      <td>RR</td>\n",
       "      <td>01/08/21 11:23 AM</td>\n",
       "      <td>236.991790</td>\n",
       "      <td>4</td>\n",
       "      <td>organic_search</td>\n",
       "    </tr>\n",
       "    <tr>\n",
       "      <th>2</th>\n",
       "      <td>dc067cd2-c021-42bd-8c0e-beb267280e66</td>\n",
       "      <td>03/07/19 11:46 PM</td>\n",
       "      <td>01/07/21 11:23 AM</td>\n",
       "      <td>NaN</td>\n",
       "      <td>active</td>\n",
       "      <td>RR</td>\n",
       "      <td>01/07/21 11:23 AM</td>\n",
       "      <td>211.955597</td>\n",
       "      <td>13</td>\n",
       "      <td>organic_search</td>\n",
       "    </tr>\n",
       "    <tr>\n",
       "      <th>3</th>\n",
       "      <td>b5e4caeb-3a9b-49ed-aa33-5acd06b162c1</td>\n",
       "      <td>07/21/18 10:17 AM</td>\n",
       "      <td>01/10/21 11:23 AM</td>\n",
       "      <td>NaN</td>\n",
       "      <td>active</td>\n",
       "      <td>PE</td>\n",
       "      <td>01/10/21 11:23 AM</td>\n",
       "      <td>204.113227</td>\n",
       "      <td>8</td>\n",
       "      <td>organic_search</td>\n",
       "    </tr>\n",
       "    <tr>\n",
       "      <th>4</th>\n",
       "      <td>d4ff61fc-f008-4e19-b8ae-bd70cfa3ae27</td>\n",
       "      <td>06/08/18 12:09 PM</td>\n",
       "      <td>01/18/21 11:23 AM</td>\n",
       "      <td>NaN</td>\n",
       "      <td>active</td>\n",
       "      <td>RJ</td>\n",
       "      <td>01/18/21 11:23 AM</td>\n",
       "      <td>252.940997</td>\n",
       "      <td>9</td>\n",
       "      <td>crm</td>\n",
       "    </tr>\n",
       "  </tbody>\n",
       "</table>\n",
       "</div>"
      ],
      "text/plain": [
       "                                     id         created_at         updated_at   \n",
       "0  8bf7960e-3b93-468b-856e-6c6c5b56f52b  08/15/17 07:05 AM  01/14/21 11:23 AM  \\\n",
       "1  a39535b5-4647-4680-b4f6-3aed57c1f1ff  12/31/19 09:53 PM  01/08/21 11:23 AM   \n",
       "2  dc067cd2-c021-42bd-8c0e-beb267280e66  03/07/19 11:46 PM  01/07/21 11:23 AM   \n",
       "3  b5e4caeb-3a9b-49ed-aa33-5acd06b162c1  07/21/18 10:17 AM  01/10/21 11:23 AM   \n",
       "4  d4ff61fc-f008-4e19-b8ae-bd70cfa3ae27  06/08/18 12:09 PM  01/18/21 11:23 AM   \n",
       "\n",
       "  deleted_at  status state last_date_purchase  average_ticket  items_quantity   \n",
       "0        NaN  active    AM  01/14/21 11:23 AM      151.142942              10  \\\n",
       "1        NaN  paused    RR  01/08/21 11:23 AM      236.991790               4   \n",
       "2        NaN  active    RR  01/07/21 11:23 AM      211.955597              13   \n",
       "3        NaN  active    PE  01/10/21 11:23 AM      204.113227               8   \n",
       "4        NaN  active    RJ  01/18/21 11:23 AM      252.940997               9   \n",
       "\n",
       "  marketing_source  \n",
       "0              crm  \n",
       "1   organic_search  \n",
       "2   organic_search  \n",
       "3   organic_search  \n",
       "4              crm  "
      ]
     },
     "execution_count": 187,
     "metadata": {},
     "output_type": "execute_result"
    }
   ],
   "source": [
    "dataframe_new = dataframe[['id', 'created_at', 'updated_at', 'deleted_at','status', 'state', 'last_date_purchase', 'average_ticket', 'items_quantity', 'marketing_source']].copy()\n",
    "dataframe_new.head()"
   ]
  },
  {
   "attachments": {},
   "cell_type": "markdown",
   "metadata": {},
   "source": [
    "Alterando o tipo do dado e formatando as colunas created_at, updated_at, deleted_at e last_date_purchase."
   ]
  },
  {
   "cell_type": "code",
   "execution_count": 188,
   "metadata": {},
   "outputs": [
    {
     "data": {
      "text/html": [
       "<div>\n",
       "<style scoped>\n",
       "    .dataframe tbody tr th:only-of-type {\n",
       "        vertical-align: middle;\n",
       "    }\n",
       "\n",
       "    .dataframe tbody tr th {\n",
       "        vertical-align: top;\n",
       "    }\n",
       "\n",
       "    .dataframe thead th {\n",
       "        text-align: right;\n",
       "    }\n",
       "</style>\n",
       "<table border=\"1\" class=\"dataframe\">\n",
       "  <thead>\n",
       "    <tr style=\"text-align: right;\">\n",
       "      <th></th>\n",
       "      <th>id</th>\n",
       "      <th>created_at</th>\n",
       "      <th>updated_at</th>\n",
       "      <th>deleted_at</th>\n",
       "      <th>status</th>\n",
       "      <th>state</th>\n",
       "      <th>last_date_purchase</th>\n",
       "      <th>average_ticket</th>\n",
       "      <th>items_quantity</th>\n",
       "      <th>marketing_source</th>\n",
       "    </tr>\n",
       "  </thead>\n",
       "  <tbody>\n",
       "    <tr>\n",
       "      <th>0</th>\n",
       "      <td>8bf7960e-3b93-468b-856e-6c6c5b56f52b</td>\n",
       "      <td>2017-08-15 07:05:00</td>\n",
       "      <td>2021-01-14 11:23:00</td>\n",
       "      <td>NaT</td>\n",
       "      <td>active</td>\n",
       "      <td>AM</td>\n",
       "      <td>2021-01-14 11:23:00</td>\n",
       "      <td>151.142942</td>\n",
       "      <td>10</td>\n",
       "      <td>crm</td>\n",
       "    </tr>\n",
       "    <tr>\n",
       "      <th>1</th>\n",
       "      <td>a39535b5-4647-4680-b4f6-3aed57c1f1ff</td>\n",
       "      <td>2019-12-31 21:53:00</td>\n",
       "      <td>2021-01-08 11:23:00</td>\n",
       "      <td>NaT</td>\n",
       "      <td>paused</td>\n",
       "      <td>RR</td>\n",
       "      <td>2021-01-08 11:23:00</td>\n",
       "      <td>236.991790</td>\n",
       "      <td>4</td>\n",
       "      <td>organic_search</td>\n",
       "    </tr>\n",
       "    <tr>\n",
       "      <th>2</th>\n",
       "      <td>dc067cd2-c021-42bd-8c0e-beb267280e66</td>\n",
       "      <td>2019-03-07 23:46:00</td>\n",
       "      <td>2021-01-07 11:23:00</td>\n",
       "      <td>NaT</td>\n",
       "      <td>active</td>\n",
       "      <td>RR</td>\n",
       "      <td>2021-01-07 11:23:00</td>\n",
       "      <td>211.955597</td>\n",
       "      <td>13</td>\n",
       "      <td>organic_search</td>\n",
       "    </tr>\n",
       "    <tr>\n",
       "      <th>3</th>\n",
       "      <td>b5e4caeb-3a9b-49ed-aa33-5acd06b162c1</td>\n",
       "      <td>2018-07-21 10:17:00</td>\n",
       "      <td>2021-01-10 11:23:00</td>\n",
       "      <td>NaT</td>\n",
       "      <td>active</td>\n",
       "      <td>PE</td>\n",
       "      <td>2021-01-10 11:23:00</td>\n",
       "      <td>204.113227</td>\n",
       "      <td>8</td>\n",
       "      <td>organic_search</td>\n",
       "    </tr>\n",
       "  </tbody>\n",
       "</table>\n",
       "</div>"
      ],
      "text/plain": [
       "                                     id          created_at   \n",
       "0  8bf7960e-3b93-468b-856e-6c6c5b56f52b 2017-08-15 07:05:00  \\\n",
       "1  a39535b5-4647-4680-b4f6-3aed57c1f1ff 2019-12-31 21:53:00   \n",
       "2  dc067cd2-c021-42bd-8c0e-beb267280e66 2019-03-07 23:46:00   \n",
       "3  b5e4caeb-3a9b-49ed-aa33-5acd06b162c1 2018-07-21 10:17:00   \n",
       "\n",
       "           updated_at deleted_at  status state  last_date_purchase   \n",
       "0 2021-01-14 11:23:00        NaT  active    AM 2021-01-14 11:23:00  \\\n",
       "1 2021-01-08 11:23:00        NaT  paused    RR 2021-01-08 11:23:00   \n",
       "2 2021-01-07 11:23:00        NaT  active    RR 2021-01-07 11:23:00   \n",
       "3 2021-01-10 11:23:00        NaT  active    PE 2021-01-10 11:23:00   \n",
       "\n",
       "   average_ticket  items_quantity marketing_source  \n",
       "0      151.142942              10              crm  \n",
       "1      236.991790               4   organic_search  \n",
       "2      211.955597              13   organic_search  \n",
       "3      204.113227               8   organic_search  "
      ]
     },
     "execution_count": 188,
     "metadata": {},
     "output_type": "execute_result"
    }
   ],
   "source": [
    "def parse_date(value):\n",
    "    return  pd.to_datetime(value, format=\"mixed\")\n",
    "\n",
    "dataframe_new[['created_at']] = dataframe_new[['created_at']].apply(parse_date)\n",
    "dataframe_new[['updated_at']] = dataframe_new[['updated_at']].apply(parse_date)\n",
    "dataframe_new[['deleted_at']] = dataframe_new[['deleted_at']].apply(parse_date)\n",
    "dataframe_new[['last_date_purchase']] = dataframe_new[['last_date_purchase']].apply(parse_date)\n",
    "\n",
    "dataframe_new.head(4)"
   ]
  },
  {
   "attachments": {},
   "cell_type": "markdown",
   "metadata": {},
   "source": [
    "Conferindo o tipo dos dados após a modificação das datas."
   ]
  },
  {
   "cell_type": "code",
   "execution_count": 189,
   "metadata": {},
   "outputs": [
    {
     "data": {
      "text/plain": [
       "id                            object\n",
       "created_at            datetime64[ns]\n",
       "updated_at            datetime64[ns]\n",
       "deleted_at            datetime64[ns]\n",
       "status                        object\n",
       "state                         object\n",
       "last_date_purchase    datetime64[ns]\n",
       "average_ticket               float64\n",
       "items_quantity                 int64\n",
       "marketing_source              object\n",
       "dtype: object"
      ]
     },
     "execution_count": 189,
     "metadata": {},
     "output_type": "execute_result"
    }
   ],
   "source": [
    "dataframe_new.dtypes"
   ]
  },
  {
   "attachments": {},
   "cell_type": "markdown",
   "metadata": {},
   "source": [
    "Identificando através da data de criação da assinatura qual o período de coleta dos dados."
   ]
  },
  {
   "cell_type": "code",
   "execution_count": 190,
   "metadata": {},
   "outputs": [
    {
     "name": "stdout",
     "output_type": "stream",
     "text": [
      "A coleta de dados da amostra aconteceu entre 2016-02-19 e 2021-02-18.\n"
     ]
    }
   ],
   "source": [
    "start_date = dataframe_new['created_at'].dt.date.min()\n",
    "end_date = dataframe_new['created_at'].dt.date.max()\n",
    "print(f'A coleta de dados da amostra aconteceu entre {start_date} e {end_date}.')"
   ]
  },
  {
   "attachments": {},
   "cell_type": "markdown",
   "metadata": {},
   "source": [
    "Quantidade de clientes por status durante todo o período da amostra."
   ]
  },
  {
   "cell_type": "code",
   "execution_count": 191,
   "metadata": {},
   "outputs": [
    {
     "data": {
      "text/plain": [
       "status\n",
       "active      8524\n",
       "paused       971\n",
       "canceled     505\n",
       "Name: id, dtype: int64"
      ]
     },
     "execution_count": 191,
     "metadata": {},
     "output_type": "execute_result"
    }
   ],
   "source": [
    "total = dataframe_new.groupby('status')['id'].count().sort_values(ascending=False)\n",
    "total"
   ]
  },
  {
   "cell_type": "code",
   "execution_count": 192,
   "metadata": {},
   "outputs": [
    {
     "data": {
      "text/plain": [
       "<Axes: xlabel='status'>"
      ]
     },
     "execution_count": 192,
     "metadata": {},
     "output_type": "execute_result"
    },
    {
     "data": {
      "image/png": "[encoded data removed]",
      "text/plain": [
       "<Figure size 400x200 with 1 Axes>"
      ]
     },
     "metadata": {},
     "output_type": "display_data"
    }
   ],
   "source": [
    "total.plot(kind='bar', figsize=(4,2))"
   ]
  },
  {
   "attachments": {},
   "cell_type": "markdown",
   "metadata": {},
   "source": [
    "Contagem de clientes por status em relação ao ano do último pedido que ocorreu pela assinatura"
   ]
  },
  {
   "cell_type": "code",
   "execution_count": 193,
   "metadata": {},
   "outputs": [
    {
     "data": {
      "text/plain": [
       "last_date_purchase  status  \n",
       "2016                canceled      27\n",
       "2017                canceled      75\n",
       "2018                canceled     100\n",
       "2019                canceled     125\n",
       "2020                active        66\n",
       "                    canceled     158\n",
       "                    paused        10\n",
       "2021                active      8458\n",
       "                    canceled      20\n",
       "                    paused       961\n",
       "Name: id, dtype: int64"
      ]
     },
     "execution_count": 193,
     "metadata": {},
     "output_type": "execute_result"
    }
   ],
   "source": [
    "last_year_purchase = dataframe_new['last_date_purchase'].dt.year\n",
    "last_purchase_status = dataframe_new.groupby([last_year_purchase,'status'])['id'].count()\n",
    "last_purchase_status"
   ]
  },
  {
   "cell_type": "code",
   "execution_count": 194,
   "metadata": {},
   "outputs": [
    {
     "data": {
      "text/plain": [
       "<Axes: ylabel='last_date_purchase,status'>"
      ]
     },
     "execution_count": 194,
     "metadata": {},
     "output_type": "execute_result"
    },
    {
     "data": {
      "image/png": "[encoded data removed]",
      "text/plain": [
       "<Figure size 400x600 with 1 Axes>"
      ]
     },
     "metadata": {},
     "output_type": "display_data"
    }
   ],
   "source": [
    "last_purchase_status.plot(kind='barh',figsize=(4,6))"
   ]
  },
  {
   "attachments": {},
   "cell_type": "markdown",
   "metadata": {},
   "source": [
    "---\n",
    "\n",
    "Observa-se que maioria dos assinantes realizaram o último pedido no ano de 2021.\n",
    "\n",
    "---"
   ]
  },
  {
   "attachments": {},
   "cell_type": "markdown",
   "metadata": {},
   "source": [
    "Contagem de clientes por status em relação ao ano do criação da assinatura."
   ]
  },
  {
   "cell_type": "code",
   "execution_count": 195,
   "metadata": {},
   "outputs": [
    {
     "data": {
      "text/plain": [
       "created_at  status  \n",
       "2016        active      1480\n",
       "            canceled     101\n",
       "            paused       189\n",
       "2017        active      1743\n",
       "            canceled      84\n",
       "            paused       174\n",
       "2018        active      1693\n",
       "            canceled      98\n",
       "            paused       204\n",
       "2019        active      1736\n",
       "            canceled     104\n",
       "            paused       195\n",
       "2020        active      1660\n",
       "            canceled     104\n",
       "            paused       182\n",
       "2021        active       212\n",
       "            canceled      14\n",
       "            paused        27\n",
       "Name: id, dtype: int64"
      ]
     },
     "execution_count": 195,
     "metadata": {},
     "output_type": "execute_result"
    }
   ],
   "source": [
    "create = dataframe_new['created_at'].dt.year\n",
    "created_status = dataframe_new.groupby([create,'status'])['id'].count()\n",
    "created_status"
   ]
  },
  {
   "cell_type": "code",
   "execution_count": 196,
   "metadata": {},
   "outputs": [
    {
     "data": {
      "text/plain": [
       "<Axes: ylabel='created_at,status'>"
      ]
     },
     "execution_count": 196,
     "metadata": {},
     "output_type": "execute_result"
    },
    {
     "data": {
      "image/png": "[encoded data removed]",
      "text/plain": [
       "<Figure size 400x600 with 1 Axes>"
      ]
     },
     "metadata": {},
     "output_type": "display_data"
    }
   ],
   "source": [
    "created_status.plot(kind='barh',figsize=(4,6))"
   ]
  },
  {
   "attachments": {},
   "cell_type": "markdown",
   "metadata": {},
   "source": [
    "Percentual anual de assinaturas canceladas em relação a todas assinaturas do ano em estudo."
   ]
  },
  {
   "cell_type": "code",
   "execution_count": 197,
   "metadata": {},
   "outputs": [
    {
     "data": {
      "text/plain": [
       "created_at\n",
       "2016    5.706215\n",
       "2017    4.197901\n",
       "2018    4.912281\n",
       "2019    5.110565\n",
       "2020    5.344296\n",
       "2021    5.533597\n",
       "Name: status, dtype: float64"
      ]
     },
     "execution_count": 197,
     "metadata": {},
     "output_type": "execute_result"
    }
   ],
   "source": [
    "canceled = dataframe_new.query('status == \"canceled\"').groupby([create])['status'].count()\n",
    "active = dataframe_new.query('status == \"active\"').groupby([create])['status'].count()\n",
    "paused = dataframe_new.query('status == \"paused\"').groupby([create])['status'].count()\n",
    "canceled_percent = (canceled/(active + paused + canceled)) * 100\n",
    "canceled_percent"
   ]
  },
  {
   "cell_type": "code",
   "execution_count": 198,
   "metadata": {},
   "outputs": [
    {
     "data": {
      "text/plain": [
       "<Axes: xlabel='created_at'>"
      ]
     },
     "execution_count": 198,
     "metadata": {},
     "output_type": "execute_result"
    },
    {
     "data": {
      "image/png": "[encoded data removed]",
      "text/plain": [
       "<Figure size 400x200 with 1 Axes>"
      ]
     },
     "metadata": {},
     "output_type": "display_data"
    }
   ],
   "source": [
    "canceled_percent.plot(figsize=(4,2))"
   ]
  },
  {
   "attachments": {},
   "cell_type": "markdown",
   "metadata": {},
   "source": [
    "Quantidade de assinantes convertidos por canal de marketing."
   ]
  },
  {
   "cell_type": "code",
   "execution_count": 199,
   "metadata": {},
   "outputs": [
    {
     "data": {
      "text/plain": [
       "marketing_source\n",
       "organic_search       3699\n",
       "direct               2149\n",
       "paid_search          1526\n",
       "telegram_whatsapp    1068\n",
       "crm                  1029\n",
       "none                  529\n",
       "Name: id, dtype: int64"
      ]
     },
     "execution_count": 199,
     "metadata": {},
     "output_type": "execute_result"
    }
   ],
   "source": [
    "marketing = dataframe_new.groupby('marketing_source')['id'].count().sort_values(ascending=False)\n",
    "marketing"
   ]
  },
  {
   "cell_type": "code",
   "execution_count": 200,
   "metadata": {},
   "outputs": [
    {
     "data": {
      "text/plain": [
       "<Axes: ylabel='marketing_source'>"
      ]
     },
     "execution_count": 200,
     "metadata": {},
     "output_type": "execute_result"
    },
    {
     "data": {
      "image/png": "[encoded data removed]",
      "text/plain": [
       "<Figure size 1000x400 with 1 Axes>"
      ]
     },
     "metadata": {},
     "output_type": "display_data"
    }
   ],
   "source": [
    "marketing.plot(kind='barh', figsize=(10,4))"
   ]
  },
  {
   "attachments": {},
   "cell_type": "markdown",
   "metadata": {},
   "source": [
    "Tempo em dias entre a criação e o cancelamento da assinatura (dado incluído no dataframe_new)."
   ]
  },
  {
   "cell_type": "code",
   "execution_count": 201,
   "metadata": {},
   "outputs": [
    {
     "data": {
      "text/plain": [
       "0      NaN\n",
       "1      NaN\n",
       "2      NaN\n",
       "3      NaN\n",
       "4      NaN\n",
       "        ..\n",
       "9995   NaN\n",
       "9996   NaN\n",
       "9997   NaN\n",
       "9998   NaN\n",
       "9999   NaN\n",
       "Name: activated_time, Length: 10000, dtype: float64"
      ]
     },
     "execution_count": 201,
     "metadata": {},
     "output_type": "execute_result"
    }
   ],
   "source": [
    "dataframe_new['activated_time'] = (dataframe_new['deleted_at'] - dataframe_new['created_at']).dt.days\n",
    "dataframe_new['activated_time']"
   ]
  },
  {
   "attachments": {},
   "cell_type": "markdown",
   "metadata": {},
   "source": [
    "Tempo em dias entre o último pedido e o cancelamento da assinatura (dado incluído no dataframe_new)."
   ]
  },
  {
   "cell_type": "code",
   "execution_count": 202,
   "metadata": {},
   "outputs": [
    {
     "data": {
      "text/plain": [
       "0      NaN\n",
       "1      NaN\n",
       "2      NaN\n",
       "3      NaN\n",
       "4      NaN\n",
       "        ..\n",
       "9995   NaN\n",
       "9996   NaN\n",
       "9997   NaN\n",
       "9998   NaN\n",
       "9999   NaN\n",
       "Name: without_purchase, Length: 10000, dtype: float64"
      ]
     },
     "execution_count": 202,
     "metadata": {},
     "output_type": "execute_result"
    }
   ],
   "source": [
    "dataframe_new['without_purchase'] = (dataframe_new['deleted_at'] - dataframe_new['last_date_purchase']).dt.days\n",
    "dataframe_new['without_purchase']"
   ]
  },
  {
   "attachments": {},
   "cell_type": "markdown",
   "metadata": {},
   "source": [
    "Conferindo dataframe após adição das colunas."
   ]
  },
  {
   "cell_type": "code",
   "execution_count": 203,
   "metadata": {},
   "outputs": [
    {
     "data": {
      "text/html": [
       "<div>\n",
       "<style scoped>\n",
       "    .dataframe tbody tr th:only-of-type {\n",
       "        vertical-align: middle;\n",
       "    }\n",
       "\n",
       "    .dataframe tbody tr th {\n",
       "        vertical-align: top;\n",
       "    }\n",
       "\n",
       "    .dataframe thead th {\n",
       "        text-align: right;\n",
       "    }\n",
       "</style>\n",
       "<table border=\"1\" class=\"dataframe\">\n",
       "  <thead>\n",
       "    <tr style=\"text-align: right;\">\n",
       "      <th></th>\n",
       "      <th>id</th>\n",
       "      <th>created_at</th>\n",
       "      <th>updated_at</th>\n",
       "      <th>deleted_at</th>\n",
       "      <th>status</th>\n",
       "      <th>state</th>\n",
       "      <th>last_date_purchase</th>\n",
       "      <th>average_ticket</th>\n",
       "      <th>items_quantity</th>\n",
       "      <th>marketing_source</th>\n",
       "      <th>activated_time</th>\n",
       "      <th>without_purchase</th>\n",
       "    </tr>\n",
       "  </thead>\n",
       "  <tbody>\n",
       "    <tr>\n",
       "      <th>0</th>\n",
       "      <td>8bf7960e-3b93-468b-856e-6c6c5b56f52b</td>\n",
       "      <td>2017-08-15 07:05:00</td>\n",
       "      <td>2021-01-14 11:23:00</td>\n",
       "      <td>NaT</td>\n",
       "      <td>active</td>\n",
       "      <td>AM</td>\n",
       "      <td>2021-01-14 11:23:00</td>\n",
       "      <td>151.142942</td>\n",
       "      <td>10</td>\n",
       "      <td>crm</td>\n",
       "      <td>NaN</td>\n",
       "      <td>NaN</td>\n",
       "    </tr>\n",
       "    <tr>\n",
       "      <th>1</th>\n",
       "      <td>a39535b5-4647-4680-b4f6-3aed57c1f1ff</td>\n",
       "      <td>2019-12-31 21:53:00</td>\n",
       "      <td>2021-01-08 11:23:00</td>\n",
       "      <td>NaT</td>\n",
       "      <td>paused</td>\n",
       "      <td>RR</td>\n",
       "      <td>2021-01-08 11:23:00</td>\n",
       "      <td>236.991790</td>\n",
       "      <td>4</td>\n",
       "      <td>organic_search</td>\n",
       "      <td>NaN</td>\n",
       "      <td>NaN</td>\n",
       "    </tr>\n",
       "  </tbody>\n",
       "</table>\n",
       "</div>"
      ],
      "text/plain": [
       "                                     id          created_at   \n",
       "0  8bf7960e-3b93-468b-856e-6c6c5b56f52b 2017-08-15 07:05:00  \\\n",
       "1  a39535b5-4647-4680-b4f6-3aed57c1f1ff 2019-12-31 21:53:00   \n",
       "\n",
       "           updated_at deleted_at  status state  last_date_purchase   \n",
       "0 2021-01-14 11:23:00        NaT  active    AM 2021-01-14 11:23:00  \\\n",
       "1 2021-01-08 11:23:00        NaT  paused    RR 2021-01-08 11:23:00   \n",
       "\n",
       "   average_ticket  items_quantity marketing_source  activated_time   \n",
       "0      151.142942              10              crm             NaN  \\\n",
       "1      236.991790               4   organic_search             NaN   \n",
       "\n",
       "   without_purchase  \n",
       "0               NaN  \n",
       "1               NaN  "
      ]
     },
     "execution_count": 203,
     "metadata": {},
     "output_type": "execute_result"
    }
   ],
   "source": [
    "dataframe_new.head(2)"
   ]
  },
  {
   "attachments": {},
   "cell_type": "markdown",
   "metadata": {},
   "source": [
    "Conferindo informações do dataframe_new após adição das colunas."
   ]
  },
  {
   "cell_type": "code",
   "execution_count": 204,
   "metadata": {},
   "outputs": [
    {
     "name": "stdout",
     "output_type": "stream",
     "text": [
      "<class 'pandas.core.frame.DataFrame'>\n",
      "RangeIndex: 10000 entries, 0 to 9999\n",
      "Data columns (total 12 columns):\n",
      " #   Column              Non-Null Count  Dtype         \n",
      "---  ------              --------------  -----         \n",
      " 0   id                  10000 non-null  object        \n",
      " 1   created_at          10000 non-null  datetime64[ns]\n",
      " 2   updated_at          10000 non-null  datetime64[ns]\n",
      " 3   deleted_at          505 non-null    datetime64[ns]\n",
      " 4   status              10000 non-null  object        \n",
      " 5   state               10000 non-null  object        \n",
      " 6   last_date_purchase  10000 non-null  datetime64[ns]\n",
      " 7   average_ticket      10000 non-null  float64       \n",
      " 8   items_quantity      10000 non-null  int64         \n",
      " 9   marketing_source    10000 non-null  object        \n",
      " 10  activated_time      505 non-null    float64       \n",
      " 11  without_purchase    505 non-null    float64       \n",
      "dtypes: datetime64[ns](4), float64(3), int64(1), object(4)\n",
      "memory usage: 937.6+ KB\n"
     ]
    }
   ],
   "source": [
    "dataframe_new.info()"
   ]
  },
  {
   "attachments": {},
   "cell_type": "markdown",
   "metadata": {},
   "source": [
    "Obtendo dados com as informações estatísticas descritivas."
   ]
  },
  {
   "cell_type": "code",
   "execution_count": 205,
   "metadata": {},
   "outputs": [
    {
     "data": {
      "text/html": [
       "<div>\n",
       "<style scoped>\n",
       "    .dataframe tbody tr th:only-of-type {\n",
       "        vertical-align: middle;\n",
       "    }\n",
       "\n",
       "    .dataframe tbody tr th {\n",
       "        vertical-align: top;\n",
       "    }\n",
       "\n",
       "    .dataframe thead th {\n",
       "        text-align: right;\n",
       "    }\n",
       "</style>\n",
       "<table border=\"1\" class=\"dataframe\">\n",
       "  <thead>\n",
       "    <tr style=\"text-align: right;\">\n",
       "      <th></th>\n",
       "      <th>created_at</th>\n",
       "      <th>updated_at</th>\n",
       "      <th>deleted_at</th>\n",
       "      <th>last_date_purchase</th>\n",
       "      <th>average_ticket</th>\n",
       "      <th>items_quantity</th>\n",
       "      <th>activated_time</th>\n",
       "      <th>without_purchase</th>\n",
       "    </tr>\n",
       "  </thead>\n",
       "  <tbody>\n",
       "    <tr>\n",
       "      <th>count</th>\n",
       "      <td>10000</td>\n",
       "      <td>10000</td>\n",
       "      <td>505</td>\n",
       "      <td>10000</td>\n",
       "      <td>10000.000000</td>\n",
       "      <td>10000.00000</td>\n",
       "      <td>505.000000</td>\n",
       "      <td>505.000000</td>\n",
       "    </tr>\n",
       "    <tr>\n",
       "      <th>mean</th>\n",
       "      <td>2018-08-12 05:40:22.464000</td>\n",
       "      <td>2020-12-25 06:06:27.533999616</td>\n",
       "      <td>2019-12-02 14:16:21.861385984</td>\n",
       "      <td>2020-12-13 06:09:13.463999488</td>\n",
       "      <td>216.894709</td>\n",
       "      <td>8.49980</td>\n",
       "      <td>471.700990</td>\n",
       "      <td>237.081188</td>\n",
       "    </tr>\n",
       "    <tr>\n",
       "      <th>min</th>\n",
       "      <td>2016-02-19 10:00:00</td>\n",
       "      <td>2016-05-02 13:46:00</td>\n",
       "      <td>2016-05-02 13:46:00</td>\n",
       "      <td>2016-02-25 03:48:00</td>\n",
       "      <td>131.378672</td>\n",
       "      <td>1.00000</td>\n",
       "      <td>0.000000</td>\n",
       "      <td>0.000000</td>\n",
       "    </tr>\n",
       "    <tr>\n",
       "      <th>25%</th>\n",
       "      <td>2017-05-15 11:42:00</td>\n",
       "      <td>2021-01-10 11:23:00</td>\n",
       "      <td>2019-04-04 11:10:00</td>\n",
       "      <td>2021-01-10 11:23:00</td>\n",
       "      <td>201.398851</td>\n",
       "      <td>6.00000</td>\n",
       "      <td>133.000000</td>\n",
       "      <td>31.000000</td>\n",
       "    </tr>\n",
       "    <tr>\n",
       "      <th>50%</th>\n",
       "      <td>2018-08-09 21:42:00</td>\n",
       "      <td>2021-01-14 11:23:00</td>\n",
       "      <td>2020-04-16 15:38:00</td>\n",
       "      <td>2021-01-14 11:23:00</td>\n",
       "      <td>217.019478</td>\n",
       "      <td>8.00000</td>\n",
       "      <td>322.000000</td>\n",
       "      <td>135.000000</td>\n",
       "    </tr>\n",
       "    <tr>\n",
       "      <th>75%</th>\n",
       "      <td>2019-11-04 17:18:30</td>\n",
       "      <td>2021-01-18 11:23:00</td>\n",
       "      <td>2020-11-02 21:59:00</td>\n",
       "      <td>2021-01-18 11:23:00</td>\n",
       "      <td>232.455042</td>\n",
       "      <td>11.00000</td>\n",
       "      <td>750.000000</td>\n",
       "      <td>350.000000</td>\n",
       "    </tr>\n",
       "    <tr>\n",
       "      <th>max</th>\n",
       "      <td>2021-02-18 05:04:00</td>\n",
       "      <td>2021-02-17 22:19:00</td>\n",
       "      <td>2021-02-17 22:19:00</td>\n",
       "      <td>2021-02-16 19:46:00</td>\n",
       "      <td>303.386848</td>\n",
       "      <td>19.00000</td>\n",
       "      <td>1771.000000</td>\n",
       "      <td>1516.000000</td>\n",
       "    </tr>\n",
       "    <tr>\n",
       "      <th>std</th>\n",
       "      <td>NaN</td>\n",
       "      <td>NaN</td>\n",
       "      <td>NaN</td>\n",
       "      <td>NaN</td>\n",
       "      <td>22.757213</td>\n",
       "      <td>3.02604</td>\n",
       "      <td>423.662606</td>\n",
       "      <td>274.604418</td>\n",
       "    </tr>\n",
       "  </tbody>\n",
       "</table>\n",
       "</div>"
      ],
      "text/plain": [
       "                       created_at                     updated_at   \n",
       "count                       10000                          10000  \\\n",
       "mean   2018-08-12 05:40:22.464000  2020-12-25 06:06:27.533999616   \n",
       "min           2016-02-19 10:00:00            2016-05-02 13:46:00   \n",
       "25%           2017-05-15 11:42:00            2021-01-10 11:23:00   \n",
       "50%           2018-08-09 21:42:00            2021-01-14 11:23:00   \n",
       "75%           2019-11-04 17:18:30            2021-01-18 11:23:00   \n",
       "max           2021-02-18 05:04:00            2021-02-17 22:19:00   \n",
       "std                           NaN                            NaN   \n",
       "\n",
       "                          deleted_at             last_date_purchase   \n",
       "count                            505                          10000  \\\n",
       "mean   2019-12-02 14:16:21.861385984  2020-12-13 06:09:13.463999488   \n",
       "min              2016-05-02 13:46:00            2016-02-25 03:48:00   \n",
       "25%              2019-04-04 11:10:00            2021-01-10 11:23:00   \n",
       "50%              2020-04-16 15:38:00            2021-01-14 11:23:00   \n",
       "75%              2020-11-02 21:59:00            2021-01-18 11:23:00   \n",
       "max              2021-02-17 22:19:00            2021-02-16 19:46:00   \n",
       "std                              NaN                            NaN   \n",
       "\n",
       "       average_ticket  items_quantity  activated_time  without_purchase  \n",
       "count    10000.000000     10000.00000      505.000000        505.000000  \n",
       "mean       216.894709         8.49980      471.700990        237.081188  \n",
       "min        131.378672         1.00000        0.000000          0.000000  \n",
       "25%        201.398851         6.00000      133.000000         31.000000  \n",
       "50%        217.019478         8.00000      322.000000        135.000000  \n",
       "75%        232.455042        11.00000      750.000000        350.000000  \n",
       "max        303.386848        19.00000     1771.000000       1516.000000  \n",
       "std         22.757213         3.02604      423.662606        274.604418  "
      ]
     },
     "execution_count": 205,
     "metadata": {},
     "output_type": "execute_result"
    }
   ],
   "source": [
    "dataframe_new.describe()"
   ]
  },
  {
   "attachments": {},
   "cell_type": "markdown",
   "metadata": {},
   "source": [
    "Soma da média de gastos por pedidos em cada estado."
   ]
  },
  {
   "cell_type": "code",
   "execution_count": 206,
   "metadata": {},
   "outputs": [
    {
     "data": {
      "text/plain": [
       "state\n",
       "TO    88829.333946\n",
       "GO    87260.094692\n",
       "RR    86278.533769\n",
       "AP    83864.284683\n",
       "PR    83587.136444\n",
       "RO    83397.146924\n",
       "AM    83188.662807\n",
       "RS    82207.990160\n",
       "CE    82131.129790\n",
       "RJ    81681.155148\n",
       "MS    81002.318580\n",
       "MG    80852.167310\n",
       "MT    80604.078823\n",
       "PB    80221.462954\n",
       "SC    80170.540296\n",
       "SE    79937.406524\n",
       "BA    79901.811307\n",
       "PE    79009.472632\n",
       "AL    77349.232939\n",
       "AC    76841.836443\n",
       "DF    76730.747875\n",
       "RN    76498.158306\n",
       "MA    76344.037399\n",
       "PA    76043.447906\n",
       "SP    76003.413117\n",
       "ES    75653.440046\n",
       "PI    73358.049145\n",
       "Name: average_ticket, dtype: float64"
      ]
     },
     "execution_count": 206,
     "metadata": {},
     "output_type": "execute_result"
    }
   ],
   "source": [
    "state_average_ticket = dataframe_new.groupby('state')['average_ticket'].sum().sort_values(ascending=False)\n",
    "state_average_ticket"
   ]
  },
  {
   "cell_type": "code",
   "execution_count": 215,
   "metadata": {},
   "outputs": [
    {
     "data": {
      "text/plain": [
       "<Axes: xlabel='state'>"
      ]
     },
     "execution_count": 215,
     "metadata": {},
     "output_type": "execute_result"
    },
    {
     "data": {
      "image/png": "[encoded data removed]",
      "text/plain": [
       "<Figure size 1000x200 with 1 Axes>"
      ]
     },
     "metadata": {},
     "output_type": "display_data"
    }
   ],
   "source": [
    "state_average_ticket.plot(figsize=(10,2))"
   ]
  },
  {
   "attachments": {},
   "cell_type": "markdown",
   "metadata": {},
   "source": [
    "Soma da média de itens por assinatura em cada estado."
   ]
  },
  {
   "cell_type": "code",
   "execution_count": 208,
   "metadata": {},
   "outputs": [
    {
     "data": {
      "text/plain": [
       "state\n",
       "RR    3480\n",
       "GO    3363\n",
       "TO    3328\n",
       "AM    3291\n",
       "PR    3291\n",
       "AP    3288\n",
       "RO    3255\n",
       "RS    3225\n",
       "RJ    3219\n",
       "CE    3212\n",
       "BA    3178\n",
       "MT    3162\n",
       "MG    3111\n",
       "PE    3103\n",
       "PB    3094\n",
       "SP    3094\n",
       "MS    3091\n",
       "SC    3084\n",
       "ES    3080\n",
       "SE    3078\n",
       "MA    3076\n",
       "DF    3025\n",
       "AL    2996\n",
       "AC    2991\n",
       "RN    2978\n",
       "PA    2975\n",
       "PI    2930\n",
       "Name: items_quantity, dtype: int64"
      ]
     },
     "execution_count": 208,
     "metadata": {},
     "output_type": "execute_result"
    }
   ],
   "source": [
    "state_items_quantity = dataframe_new.groupby('state')['items_quantity'].sum().sort_values(ascending=False)\n",
    "state_items_quantity"
   ]
  },
  {
   "cell_type": "code",
   "execution_count": 209,
   "metadata": {},
   "outputs": [
    {
     "data": {
      "text/plain": [
       "<Axes: xlabel='state'>"
      ]
     },
     "execution_count": 209,
     "metadata": {},
     "output_type": "execute_result"
    },
    {
     "data": {
      "image/png": "[encoded data removed]",
      "text/plain": [
       "<Figure size 1000x200 with 1 Axes>"
      ]
     },
     "metadata": {},
     "output_type": "display_data"
    }
   ],
   "source": [
    "state_items_quantity.plot(kind='bar', figsize=(10,2))"
   ]
  },
  {
   "attachments": {},
   "cell_type": "markdown",
   "metadata": {},
   "source": [
    "Quantidade de assinaturas ativas por estado."
   ]
  },
  {
   "cell_type": "code",
   "execution_count": 210,
   "metadata": {},
   "outputs": [
    {
     "data": {
      "text/plain": [
       "state\n",
       "TO    356\n",
       "GO    344\n",
       "AP    334\n",
       "PB    331\n",
       "PR    330\n",
       "RO    329\n",
       "RR    327\n",
       "AM    326\n",
       "CE    325\n",
       "RJ    323\n",
       "SC    323\n",
       "MG    320\n",
       "RS    317\n",
       "BA    314\n",
       "PE    309\n",
       "SP    308\n",
       "MT    308\n",
       "RN    306\n",
       "DF    306\n",
       "MS    305\n",
       "SE    305\n",
       "MA    303\n",
       "ES    303\n",
       "AL    301\n",
       "AC    297\n",
       "PI    290\n",
       "PA    284\n",
       "Name: id, dtype: int64"
      ]
     },
     "execution_count": 210,
     "metadata": {},
     "output_type": "execute_result"
    }
   ],
   "source": [
    "active_status = dataframe_new.query('status == \"active\"')\n",
    "active_status.groupby('state')['id'].count().sort_values(ascending=False)"
   ]
  },
  {
   "attachments": {},
   "cell_type": "markdown",
   "metadata": {},
   "source": [
    "Quantidade de assinaturas pausados por estado."
   ]
  },
  {
   "cell_type": "code",
   "execution_count": 211,
   "metadata": {},
   "outputs": [
    {
     "data": {
      "text/plain": [
       "state\n",
       "MS    49\n",
       "RR    46\n",
       "PA    45\n",
       "AC    44\n",
       "RS    40\n",
       "PE    38\n",
       "GO    38\n",
       "SE    38\n",
       "RJ    38\n",
       "PR    38\n",
       "PI    37\n",
       "ES    37\n",
       "DF    36\n",
       "MT    36\n",
       "SC    35\n",
       "RO    35\n",
       "BA    34\n",
       "CE    34\n",
       "MG    34\n",
       "RN    32\n",
       "AP    32\n",
       "AM    31\n",
       "AL    30\n",
       "SP    30\n",
       "TO    29\n",
       "MA    28\n",
       "PB    27\n",
       "Name: id, dtype: int64"
      ]
     },
     "execution_count": 211,
     "metadata": {},
     "output_type": "execute_result"
    }
   ],
   "source": [
    "paused_status = dataframe_new.query('status == \"paused\"')\n",
    "paused_status.groupby('state')['id'].count().sort_values(ascending=False)"
   ]
  },
  {
   "attachments": {},
   "cell_type": "markdown",
   "metadata": {},
   "source": [
    "Quantidade de assinaturas canceladas por estado."
   ]
  },
  {
   "cell_type": "code",
   "execution_count": 212,
   "metadata": {},
   "outputs": [
    {
     "data": {
      "text/plain": [
       "state\n",
       "RS    25\n",
       "TO    24\n",
       "SE    24\n",
       "MT    24\n",
       "MA    23\n",
       "AM    23\n",
       "RR    23\n",
       "AL    22\n",
       "PA    22\n",
       "GO    21\n",
       "MS    20\n",
       "BA    20\n",
       "PE    20\n",
       "MG    19\n",
       "CE    19\n",
       "RO    17\n",
       "PR    17\n",
       "SP    16\n",
       "RJ    16\n",
       "AC    16\n",
       "RN    15\n",
       "DF    15\n",
       "AP    15\n",
       "PB    14\n",
       "SC    12\n",
       "ES    12\n",
       "PI    11\n",
       "Name: id, dtype: int64"
      ]
     },
     "execution_count": 212,
     "metadata": {},
     "output_type": "execute_result"
    }
   ],
   "source": [
    "canceled_status = dataframe_new.query('status == \"canceled\"')\n",
    "canceled_status.groupby('state')['id'].count().sort_values(ascending=False)"
   ]
  },
  {
   "cell_type": "code",
   "execution_count": 213,
   "metadata": {},
   "outputs": [
    {
     "data": {
      "text/plain": [
       "state\n",
       "RS    25\n",
       "TO    24\n",
       "SE    24\n",
       "MT    24\n",
       "MA    23\n",
       "AM    23\n",
       "RR    23\n",
       "AL    22\n",
       "PA    22\n",
       "GO    21\n",
       "MS    20\n",
       "BA    20\n",
       "PE    20\n",
       "MG    19\n",
       "CE    19\n",
       "RO    17\n",
       "PR    17\n",
       "SP    16\n",
       "RJ    16\n",
       "AC    16\n",
       "RN    15\n",
       "DF    15\n",
       "AP    15\n",
       "PB    14\n",
       "SC    12\n",
       "ES    12\n",
       "PI    11\n",
       "Name: id, dtype: int64"
      ]
     },
     "execution_count": 213,
     "metadata": {},
     "output_type": "execute_result"
    }
   ],
   "source": [
    "canceled_status = dataframe_new.query('status == \"canceled\"')\n",
    "canceled_status.groupby('state')['id'].count().sort_values(ascending=False)"
   ]
  },
  {
   "attachments": {},
   "cell_type": "markdown",
   "metadata": {},
   "source": [
    "Exportando os dados tratados para utilização no Power BI."
   ]
  },
  {
   "cell_type": "code",
   "execution_count": 214,
   "metadata": {},
   "outputs": [],
   "source": [
    "dataframe_new.to_csv('petlove_subscription.csv', index= True, sep= ',')"
   ]
  }
 ],
 "metadata": {
  "kernelspec": {
   "display_name": "env",
   "language": "python",
   "name": "python3"
  },
  "language_info": {
   "codemirror_mode": {
    "name": "ipython",
    "version": 3
   },
   "file_extension": ".py",
   "mimetype": "text/x-python",
   "name": "python",
   "nbconvert_exporter": "python",
   "pygments_lexer": "ipython3",
   "version": "3.10.11"
  },
  "orig_nbformat": 4
 },
 "nbformat": 4,
 "nbformat_minor": 2
}
